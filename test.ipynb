{
 "cells": [
  {
   "cell_type": "code",
   "execution_count": 1,
   "metadata": {},
   "outputs": [],
   "source": [
    "import os\n",
    "os.makedirs('train/')"
   ]
  },
  {
   "cell_type": "code",
   "execution_count": 2,
   "metadata": {},
   "outputs": [
    {
     "name": "stdout",
     "output_type": "stream",
     "text": [
      "6.33\n",
      "6\n",
      "6.0\n"
     ]
    },
    {
     "ename": "",
     "evalue": "",
     "output_type": "error",
     "traceback": [
      "\u001b[1;31mThe Kernel crashed while executing code in the current cell or a previous cell. \n",
      "\u001b[1;31mPlease review the code in the cell(s) to identify a possible cause of the failure. \n",
      "\u001b[1;31mClick <a href='https://aka.ms/vscodeJupyterKernelCrash'>here</a> for more info. \n",
      "\u001b[1;31mView Jupyter <a href='command:jupyter.viewOutput'>log</a> for further details."
     ]
    }
   ],
   "source": [
    "a=6.33\n",
    "print(a)\n",
    "print(int(a))\n",
    "print(float(int(a)))"
   ]
  },
  {
   "cell_type": "code",
   "execution_count": 1,
   "metadata": {},
   "outputs": [
    {
     "name": "stdout",
     "output_type": "stream",
     "text": [
      "0\n",
      "Camera 0 is connected.\n",
      "1\n",
      "Camera 1 is connected.\n",
      "2\n",
      "Camera 2 is not connected.\n",
      "3\n",
      "Camera 3 is not connected.\n",
      "4\n",
      "Camera 4 is not connected.\n",
      "5\n",
      "Camera 5 is not connected.\n",
      "6\n",
      "Camera 6 is not connected.\n",
      "7\n",
      "Camera 7 is not connected.\n",
      "8\n",
      "Camera 8 is not connected.\n",
      "9\n",
      "Camera 9 is not connected.\n"
     ]
    }
   ],
   "source": [
    "import cv2\n",
    "\n",
    "# 여러 인덱스를 시도하여 연결된 카메라 찾기\n",
    "for i in range(10):\n",
    "    print(i)\n",
    "    cap = cv2.VideoCapture(i)\n",
    "    if cap.isOpened():\n",
    "        print(f\"Camera {i} is connected.\")\n",
    "        cap.release()\n",
    "    else:\n",
    "        print(f\"Camera {i} is not connected.\")\n"
   ]
  }
 ],
 "metadata": {
  "kernelspec": {
   "display_name": "Python 3",
   "language": "python",
   "name": "python3"
  },
  "language_info": {
   "codemirror_mode": {
    "name": "ipython",
    "version": 3
   },
   "file_extension": ".py",
   "mimetype": "text/x-python",
   "name": "python",
   "nbconvert_exporter": "python",
   "pygments_lexer": "ipython3",
   "version": "3.11.4"
  }
 },
 "nbformat": 4,
 "nbformat_minor": 2
}

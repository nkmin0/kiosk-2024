{
 "cells": [
  {
   "cell_type": "code",
   "execution_count": 1,
   "metadata": {},
   "outputs": [
    {
     "name": "stdout",
     "output_type": "stream",
     "text": [
      "python train.py --img 640 --batch 16 --epochs 100 --data data/data.yaml --cfg models/yolov5s.yaml --weights weights/yolov5s.pt --name kiosk_v5.0\n"
     ]
    }
   ],
   "source": [
    "import subprocess\n",
    "\n",
    "# 변수 설정\n",
    "img_size = 640\n",
    "batch_size = 16\n",
    "epochs = 100\n",
    "data_path = \"data/data.yaml\"\n",
    "cfg_path = \"models/yolov5s.yaml\"\n",
    "weights_path = \"weights/yolov5s.pt\"\n",
    "#weights_path = \"runs/train/kiosk_v4.1/weights/best.pt\"\n",
    "name = \"kiosk_v5.0\"\n",
    "\n",
    "# 명령어 생성\n",
    "command = f\"python train.py --img {str(img_size)} --batch {str(batch_size)} --epochs {str(epochs)} --data {data_path} --cfg {cfg_path} --weights {weights_path} --name {name}\"\n",
    "\n",
    "# 명령어 실행\n",
    "print(command)\n"
   ]
  },
  {
   "cell_type": "code",
   "execution_count": null,
   "metadata": {},
   "outputs": [],
   "source": [
    "python detect.py --source ./inference/images/test.jpg --weights runs/train/exp22/weights/best.pt --conf 0.4\n",
    "\n",
    "--upgrade albumentations"
   ]
  },
  {
   "cell_type": "code",
   "execution_count": 5,
   "metadata": {},
   "outputs": [
    {
     "name": "stdout",
     "output_type": "stream",
     "text": [
      "python detect.py --source D:/KIOSK_dataset/sensor_image_6.mp4 --weights runs/train/kiosk_v4.1/weights/best.pt --conf 0.5\n"
     ]
    }
   ],
   "source": [
    "import subprocess\n",
    "\n",
    "#source_path = \"test/images\"\n",
    "source_path = \"D:/KIOSK_dataset/sensor_image_6.mp4\"\n",
    "weights_path = \"runs/train/kiosk_v4.1/weights/best.pt\"\n",
    "conf = 0.5\n",
    "\n",
    "# 명령어 생성\n",
    "command = f\"python detect.py --source {source_path} --weights {weights_path} --conf {str(conf)}\"\n",
    "\n",
    "# 명령어 실행\n",
    "print(command)\n"
   ]
  },
  {
   "cell_type": "code",
   "execution_count": 10,
   "metadata": {},
   "outputs": [
    {
     "name": "stdout",
     "output_type": "stream",
     "text": [
      "3.0\n"
     ]
    }
   ],
   "source": [
    "num = 3.14159\n",
    "rounded_num = round(num, 0)\n",
    "print(rounded_num)  # 출력: 3.1\n"
   ]
  }
 ],
 "metadata": {
  "kernelspec": {
   "display_name": "Python 3",
   "language": "python",
   "name": "python3"
  },
  "language_info": {
   "codemirror_mode": {
    "name": "ipython",
    "version": 3
   },
   "file_extension": ".py",
   "mimetype": "text/x-python",
   "name": "python",
   "nbconvert_exporter": "python",
   "pygments_lexer": "ipython3",
   "version": "3.11.4"
  }
 },
 "nbformat": 4,
 "nbformat_minor": 2
}
